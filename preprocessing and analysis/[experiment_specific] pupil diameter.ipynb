{
 "cells": [
  {
   "cell_type": "markdown",
   "id": "18ca0bdc",
   "metadata": {},
   "source": [
    "# Analysis\n",
    "Compute mean and sd of pupil diameters per emotion category (for both absolute, and baseline-corrected values), and perform ttests."
   ]
  },
  {
   "cell_type": "code",
   "execution_count": null,
   "id": "0db409e1",
   "metadata": {},
   "outputs": [],
   "source": [
    "from experiment_specific_utils.pupil_diameter import compute_mean_sd, run_ttests\n",
    "\n",
    "# to supress pandas incorrect usage warning (alternatively, just fix the cause of the issue)\n",
    "import warnings\n",
    "warnings.filterwarnings(\"ignore\", message=\"dropping on a non-lexsorted multi-index\")"
   ]
  },
  {
   "cell_type": "code",
   "execution_count": null,
   "id": "7ba65173",
   "metadata": {},
   "outputs": [],
   "source": [
    "# The directory containing a subdirectory for each subject, where each subdir contains eye_tracking_data.csv for that subject.\n",
    "# \n",
    "# The directory structure:\n",
    "#   \n",
    "#   |-- base_dir/\n",
    "#   |   |-- subject_1/\n",
    "#   |   |   |-- eye_tracking_data.csv\n",
    "#   |   |...\n",
    "#   |   |-- subject_n/\n",
    "#   |   |   |-- eye_tracking_data.csv\n",
    "\n",
    "base_dir = r\"eye-data-sept2025\\EXPERIMENTS_selective\""
   ]
  },
  {
   "cell_type": "code",
   "execution_count": null,
   "id": "147e5249",
   "metadata": {},
   "outputs": [],
   "source": [
    "group_lvl_summary, subject_lvl_summary = compute_mean_sd(base_dir)"
   ]
  },
  {
   "cell_type": "code",
   "execution_count": null,
   "id": "8451a9dd",
   "metadata": {},
   "outputs": [],
   "source": [
    "run_ttests(subject_lvl_summary)"
   ]
  },
  {
   "cell_type": "code",
   "execution_count": null,
   "id": "02e6963e",
   "metadata": {},
   "outputs": [],
   "source": []
  }
 ],
 "metadata": {
  "kernelspec": {
   "display_name": "ccs",
   "language": "python",
   "name": "python3"
  },
  "language_info": {
   "codemirror_mode": {
    "name": "ipython",
    "version": 3
   },
   "file_extension": ".py",
   "mimetype": "text/x-python",
   "name": "python",
   "nbconvert_exporter": "python",
   "pygments_lexer": "ipython3",
   "version": "3.10.18"
  }
 },
 "nbformat": 4,
 "nbformat_minor": 5
}
