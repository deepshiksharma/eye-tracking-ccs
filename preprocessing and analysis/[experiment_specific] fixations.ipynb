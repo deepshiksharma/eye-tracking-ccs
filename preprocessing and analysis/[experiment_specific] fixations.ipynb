{
 "cells": [
  {
   "cell_type": "code",
   "execution_count": 1,
   "id": "0db409e1",
   "metadata": {},
   "outputs": [],
   "source": [
    "from experiment_specific_utils.fixations import (\n",
    "    compute_fixation_metrics_viewing, plot_fixation_metrics_viewing,\n",
    "    compute_fixation_metrics_rating, plot_fixation_metrics_rating,\n",
    "    fixation_durations_and_final_clicks_top_7\n",
    ")\n",
    "\n",
    "# to supress pandas incorrect usage warning\n",
    "import warnings\n",
    "warnings.filterwarnings(\"ignore\", message=\"Mean of empty slice\")"
   ]
  },
  {
   "cell_type": "code",
   "execution_count": 2,
   "id": "7ba65173",
   "metadata": {},
   "outputs": [],
   "source": [
    "# The directory containing a subdirectory for each subject, where each subdir contains eye_tracking_data.csv for that subject.\n",
    "# \n",
    "# The directory structure:\n",
    "#   \n",
    "#   |-- base_dir/\n",
    "#   |   |-- subject_1/\n",
    "#   |   |   |-- eye_tracking_data.csv\n",
    "#   |   |...\n",
    "#   |   |-- subject_n/\n",
    "#   |   |   |-- eye_tracking_data.csv\n",
    "\n",
    "base_dir = r\"eye-data-sept2025\\EXPERIMENTS_selective\""
   ]
  },
  {
   "cell_type": "code",
   "execution_count": 3,
   "id": "147e5249",
   "metadata": {},
   "outputs": [
    {
     "name": "stderr",
     "output_type": "stream",
     "text": [
      "D:\\GITHUB\\eye-tracking-ccs\\preprocessing and analysis\\experiment_specific_utils\\fixations.py:22: DtypeWarning: Columns (17,18) have mixed types. Specify dtype option on import or set low_memory=False.\n",
      "  df = pd.read_csv(os.path.join(s, \"eye_tracking_data.csv\"))\n"
     ]
    },
    {
     "name": "stdout",
     "output_type": "stream",
     "text": [
      "Saved subject-level metrics to: fixation_metrics_viewing\\subject_level_fixation_metrics_viewing.csv\n",
      "Saved group-level metrics to: fixation_metrics_viewing\\group_level_fixation_metrics_viewing.csv\n"
     ]
    }
   ],
   "source": [
    "subject_lvl_viewing, group_lvl_viewing = compute_fixation_metrics_viewing(base_dir)"
   ]
  },
  {
   "cell_type": "code",
   "execution_count": 4,
   "id": "8a661f3d",
   "metadata": {},
   "outputs": [
    {
     "name": "stdout",
     "output_type": "stream",
     "text": [
      "Saved: fixation_metrics_viewing_plots\\mean_fixation_count.png\n",
      "Saved: fixation_metrics_viewing_plots\\mean_fixation_duration.png\n",
      "Saved: fixation_metrics_viewing_plots\\mean_total_duration.png\n"
     ]
    }
   ],
   "source": [
    "plot_fixation_metrics_viewing(subject_lvl_viewing)"
   ]
  },
  {
   "cell_type": "code",
   "execution_count": 5,
   "id": "0d607be3",
   "metadata": {},
   "outputs": [
    {
     "name": "stderr",
     "output_type": "stream",
     "text": [
      "D:\\GITHUB\\eye-tracking-ccs\\preprocessing and analysis\\experiment_specific_utils\\fixations.py:321: DtypeWarning: Columns (17,18) have mixed types. Specify dtype option on import or set low_memory=False.\n",
      "  df = pd.read_csv(os.path.join(s, \"eye_tracking_data.csv\"))\n"
     ]
    },
    {
     "name": "stdout",
     "output_type": "stream",
     "text": [
      "Saved subject-level metrics to: fixation_metrics_rating\\subject_level_fixation_metrics.csv\n",
      "Saved group-level metrics to: fixation_metrics_rating\\group_level_fixation_metrics.csv\n"
     ]
    }
   ],
   "source": [
    "subject_lvl_rating, group_lvl_rating = compute_fixation_metrics_rating(base_dir)"
   ]
  },
  {
   "cell_type": "code",
   "execution_count": 6,
   "id": "f6082655",
   "metadata": {},
   "outputs": [
    {
     "name": "stdout",
     "output_type": "stream",
     "text": [
      "Saved: fixation_metrics_rating_plots\\mean_fixation_count.png\n",
      "Saved: fixation_metrics_rating_plots\\mean_fixation_duration.png\n",
      "Saved: fixation_metrics_rating_plots\\mean_total_duration.png\n"
     ]
    }
   ],
   "source": [
    "plot_fixation_metrics_rating(subject_lvl_rating)"
   ]
  },
  {
   "cell_type": "code",
   "execution_count": 7,
   "id": "027677ba",
   "metadata": {},
   "outputs": [
    {
     "name": "stdout",
     "output_type": "stream",
     "text": [
      "\n",
      "Stimulus category: POSITIVE\n",
      "Total number of rating trials processed: 500\n",
      "Top 1 longest fixation duration, with matching button click: 214\n",
      "Top 2 longest fixation duration, with matching button click: 87\n",
      "Top 3 longest fixation duration, with matching button click: 44\n",
      "Top 4 longest fixation duration, with matching button click: 17\n",
      "Top 5 longest fixation duration, with matching button click: 3\n",
      "Top 6 longest fixation duration, with matching button click: 0\n",
      "Top 7 longest fixation duration, with matching button click: 5\n",
      "Incorrect (doesn't match any top 7 fixation durations): 130\n",
      "\n",
      "Stimulus category: NEUTRAL\n",
      "Total number of rating trials processed: 500\n",
      "Top 1 longest fixation duration, with matching button click: 186\n",
      "Top 2 longest fixation duration, with matching button click: 95\n",
      "Top 3 longest fixation duration, with matching button click: 40\n",
      "Top 4 longest fixation duration, with matching button click: 14\n",
      "Top 5 longest fixation duration, with matching button click: 3\n",
      "Top 6 longest fixation duration, with matching button click: 3\n",
      "Top 7 longest fixation duration, with matching button click: 1\n",
      "Incorrect (doesn't match any top 7 fixation durations): 158\n",
      "\n",
      "Stimulus category: NEGATIVE\n",
      "Total number of rating trials processed: 500\n",
      "Top 1 longest fixation duration, with matching button click: 258\n",
      "Top 2 longest fixation duration, with matching button click: 101\n",
      "Top 3 longest fixation duration, with matching button click: 36\n",
      "Top 4 longest fixation duration, with matching button click: 18\n",
      "Top 5 longest fixation duration, with matching button click: 3\n",
      "Top 6 longest fixation duration, with matching button click: 4\n",
      "Top 7 longest fixation duration, with matching button click: 3\n",
      "Incorrect (doesn't match any top 7 fixation durations): 77\n"
     ]
    }
   ],
   "source": [
    "fixation_durations_and_final_clicks_top_7(base_dir)"
   ]
  },
  {
   "cell_type": "code",
   "execution_count": null,
   "id": "cec5a058-0ca9-4aa1-a182-7ac5b9889db9",
   "metadata": {},
   "outputs": [],
   "source": []
  }
 ],
 "metadata": {
  "kernelspec": {
   "display_name": "ccs",
   "language": "python",
   "name": "python3"
  },
  "language_info": {
   "codemirror_mode": {
    "name": "ipython",
    "version": 3
   },
   "file_extension": ".py",
   "mimetype": "text/x-python",
   "name": "python",
   "nbconvert_exporter": "python",
   "pygments_lexer": "ipython3",
   "version": "3.10.18"
  }
 },
 "nbformat": 4,
 "nbformat_minor": 5
}
