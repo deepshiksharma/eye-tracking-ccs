{
 "cells": [
  {
   "cell_type": "markdown",
   "id": "3d372e51",
   "metadata": {},
   "source": [
    "# Fixation metrics\n",
    "- Fixation count\n",
    "- Mean fixation duration\n",
    "- Total fixation duration"
   ]
  },
  {
   "cell_type": "code",
   "execution_count": null,
   "id": "82f9bb85",
   "metadata": {},
   "outputs": [],
   "source": [
    "# Required libraries\n",
    "import pandas as pd\n",
    "from experiment_specific_utils.common import extract_stim_viewing_segments"
   ]
  },
  {
   "cell_type": "code",
   "execution_count": null,
   "id": "eb382253",
   "metadata": {},
   "outputs": [],
   "source": [
    "# Load the sample eye tracking data, for calculating fixation metrics during that recording\n",
    "data = pd.read_csv(r\"D:\\GITHUB\\eye-tracking-ccs\\preprocessing and analysis\\sample_eye_tracking_data.csv\")"
   ]
  },
  {
   "cell_type": "markdown",
   "id": "6537bc1b",
   "metadata": {},
   "source": [
    "**Note:** Depending on how your experiment is structured, you can segment the eye tracking data into different segments. <br>\n",
    "Here, I already have functions that automate the segmentation of data into stimulus viewing and rating segments. <br>\n",
    "These functions can be found in `experiment_specific_utils.common` as `extract_stim_viewing_segments` and `extract_emotion_rating_segments`.\n",
    "\n",
    "You can make slight modifications to the existing functions to can accomodate another experiment design structure."
   ]
  },
  {
   "cell_type": "code",
   "execution_count": null,
   "id": "3972db8b",
   "metadata": {},
   "outputs": [],
   "source": [
    "# For the sake of example, let us extract fixation metrics during the viewing segment of one stimulus image.\n",
    "data_segment = extract_stim_viewing_segments(data)['Landscapes_139_h.jpg']"
   ]
  },
  {
   "cell_type": "markdown",
   "id": "9b1961c9",
   "metadata": {},
   "source": [
    "# Function usage\n",
    "The function `detect_fixations` from `compute_eye_metrics.fixations` is used to extract fixation metrics from a given dataframe.\n",
    "\n",
    "This function returns a dataframe containing all detected fixations, along with their corresponding metrics."
   ]
  },
  {
   "cell_type": "code",
   "execution_count": null,
   "id": "8aed8689",
   "metadata": {},
   "outputs": [],
   "source": [
    "from compute_eye_metrics.fixations import detect_fixations\n",
    "help(detect_fixations)"
   ]
  },
  {
   "cell_type": "code",
   "execution_count": null,
   "id": "502a56db",
   "metadata": {},
   "outputs": [],
   "source": [
    "fixations = detect_fixations(data_segment)\n",
    "fixations"
   ]
  },
  {
   "cell_type": "markdown",
   "id": "d796aa12",
   "metadata": {},
   "source": [
    "This returned dataframe contains a list of all detected fixations (one per row). If we were to calculate a few simple fixation metrics from the above:"
   ]
  },
  {
   "cell_type": "code",
   "execution_count": null,
   "id": "8fd4a36d",
   "metadata": {},
   "outputs": [],
   "source": [
    "print(\"Fixation count:\", len(fixations))\n",
    "print(\"Mean Fixation duration: \", fixations.duration_ms.mean())\n",
    "print(\"Total fixation duration:\", fixations.duration_ms.sum())"
   ]
  },
  {
   "cell_type": "code",
   "execution_count": null,
   "id": "04360f75",
   "metadata": {},
   "outputs": [],
   "source": []
  }
 ],
 "metadata": {
  "kernelspec": {
   "display_name": "ccs",
   "language": "python",
   "name": "python3"
  },
  "language_info": {
   "codemirror_mode": {
    "name": "ipython",
    "version": 3
   },
   "file_extension": ".py",
   "mimetype": "text/x-python",
   "name": "python",
   "nbconvert_exporter": "python",
   "pygments_lexer": "ipython3",
   "version": "3.10.18"
  }
 },
 "nbformat": 4,
 "nbformat_minor": 5
}
