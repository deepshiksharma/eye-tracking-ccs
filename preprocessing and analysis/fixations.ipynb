{
 "cells": [
  {
   "cell_type": "markdown",
   "id": "3d372e51",
   "metadata": {},
   "source": [
    "# Fixation metrics\n",
    "- Fixation count\n",
    "- Mean fixation duration\n",
    "- Total fixation duration"
   ]
  },
  {
   "cell_type": "code",
   "execution_count": 1,
   "id": "82f9bb85",
   "metadata": {},
   "outputs": [],
   "source": [
    "# Required libraries\n",
    "import pandas as pd\n",
    "from experiment_specific_utils.common import extract_stim_viewing_segments"
   ]
  },
  {
   "cell_type": "code",
   "execution_count": 2,
   "id": "eb382253",
   "metadata": {},
   "outputs": [
    {
     "name": "stderr",
     "output_type": "stream",
     "text": [
      "C:\\Users\\Deepshik\\AppData\\Local\\Temp\\ipykernel_11232\\37205963.py:2: DtypeWarning: Columns (17,18) have mixed types. Specify dtype option on import or set low_memory=False.\n",
      "  data = pd.read_csv(r\"D:\\GITHUB\\eye-tracking-ccs\\preprocessing and analysis\\sample_eye_tracking_data.csv\")\n"
     ]
    }
   ],
   "source": [
    "# Load the sample eye tracking data, for calculating fixation metrics during that recording\n",
    "data = pd.read_csv(r\"D:\\GITHUB\\eye-tracking-ccs\\preprocessing and analysis\\sample_eye_tracking_data.csv\")"
   ]
  },
  {
   "cell_type": "markdown",
   "id": "6537bc1b",
   "metadata": {},
   "source": [
    "**Note:** Depending on how your experiment is structured, you can segment the eye tracking data into different segments. <br>\n",
    "Here, I already have functions that automate the segmentation of data into stimulus viewing and rating segments. <br>\n",
    "These functions can be found in `experiment_specific_utils.common` as `extract_stim_viewing_segments` and `extract_emotion_rating_segments`.\n",
    "\n",
    "You can make slight modifications to the existing functions to can accomodate another experiment design structure."
   ]
  },
  {
   "cell_type": "code",
   "execution_count": 3,
   "id": "3972db8b",
   "metadata": {},
   "outputs": [],
   "source": [
    "# For the sake of example, let us extract fixation metrics during the viewing segment of one stimulus image.\n",
    "data_segment = extract_stim_viewing_segments(data)['Landscapes_139_h.jpg']"
   ]
  },
  {
   "cell_type": "markdown",
   "id": "9b1961c9",
   "metadata": {},
   "source": [
    "# Function usage\n",
    "The function `detect_fixations` from `compute_eye_metrics.fixations` is used to extract fixation metrics from a given dataframe.\n",
    "\n",
    "This function returns a dataframe containing all detected fixations, along with their corresponding metrics."
   ]
  },
  {
   "cell_type": "code",
   "execution_count": 4,
   "id": "8aed8689",
   "metadata": {},
   "outputs": [
    {
     "name": "stdout",
     "output_type": "stream",
     "text": [
      "Help on function detect_fixations in module compute_eye_metrics.fixations:\n",
      "\n",
      "detect_fixations(dataframe, missing=0.0, maxdist=25, mindur=100)\n",
      "    Extracts fixation metrics from a given dataframe.\n",
      "    \n",
      "    Args:\n",
      "        - dataframe (pd.DataFrame): The dataframe containing eye-tracking data.\n",
      "        - missing, maxdist, mindur: Various optional parameters for fixation detection.\n",
      "    \n",
      "    Returns:\n",
      "        - pd.DataFrame: Dataframe containing all detected fixations, along with their corresponding metrics.\n",
      "\n"
     ]
    }
   ],
   "source": [
    "from compute_eye_metrics.fixations import detect_fixations\n",
    "help(detect_fixations)"
   ]
  },
  {
   "cell_type": "code",
   "execution_count": 5,
   "id": "502a56db",
   "metadata": {},
   "outputs": [
    {
     "data": {
      "text/html": [
       "<div>\n",
       "<style scoped>\n",
       "    .dataframe tbody tr th:only-of-type {\n",
       "        vertical-align: middle;\n",
       "    }\n",
       "\n",
       "    .dataframe tbody tr th {\n",
       "        vertical-align: top;\n",
       "    }\n",
       "\n",
       "    .dataframe thead th {\n",
       "        text-align: right;\n",
       "    }\n",
       "</style>\n",
       "<table border=\"1\" class=\"dataframe\">\n",
       "  <thead>\n",
       "    <tr style=\"text-align: right;\">\n",
       "      <th></th>\n",
       "      <th>start_time_ms</th>\n",
       "      <th>end_time_ms</th>\n",
       "      <th>duration_ms</th>\n",
       "      <th>end_x_px</th>\n",
       "      <th>end_y_px</th>\n",
       "    </tr>\n",
       "  </thead>\n",
       "  <tbody>\n",
       "    <tr>\n",
       "      <th>0</th>\n",
       "      <td>0.834</td>\n",
       "      <td>263.333</td>\n",
       "      <td>262.499</td>\n",
       "      <td>960.730133</td>\n",
       "      <td>475.019335</td>\n",
       "    </tr>\n",
       "    <tr>\n",
       "      <th>1</th>\n",
       "      <td>269.999</td>\n",
       "      <td>614.167</td>\n",
       "      <td>344.168</td>\n",
       "      <td>902.034416</td>\n",
       "      <td>505.643252</td>\n",
       "    </tr>\n",
       "    <tr>\n",
       "      <th>2</th>\n",
       "      <td>638.335</td>\n",
       "      <td>871.668</td>\n",
       "      <td>233.333</td>\n",
       "      <td>1103.725147</td>\n",
       "      <td>596.143473</td>\n",
       "    </tr>\n",
       "    <tr>\n",
       "      <th>3</th>\n",
       "      <td>985.002</td>\n",
       "      <td>1381.670</td>\n",
       "      <td>396.668</td>\n",
       "      <td>793.391132</td>\n",
       "      <td>501.063530</td>\n",
       "    </tr>\n",
       "    <tr>\n",
       "      <th>4</th>\n",
       "      <td>1390.835</td>\n",
       "      <td>1808.344</td>\n",
       "      <td>417.509</td>\n",
       "      <td>843.484268</td>\n",
       "      <td>466.657457</td>\n",
       "    </tr>\n",
       "    <tr>\n",
       "      <th>5</th>\n",
       "      <td>1829.177</td>\n",
       "      <td>2138.346</td>\n",
       "      <td>309.169</td>\n",
       "      <td>969.043007</td>\n",
       "      <td>480.495788</td>\n",
       "    </tr>\n",
       "    <tr>\n",
       "      <th>6</th>\n",
       "      <td>2203.345</td>\n",
       "      <td>2479.180</td>\n",
       "      <td>275.835</td>\n",
       "      <td>1108.123226</td>\n",
       "      <td>558.262464</td>\n",
       "    </tr>\n",
       "    <tr>\n",
       "      <th>7</th>\n",
       "      <td>2621.680</td>\n",
       "      <td>3248.346</td>\n",
       "      <td>626.666</td>\n",
       "      <td>920.111818</td>\n",
       "      <td>531.553327</td>\n",
       "    </tr>\n",
       "    <tr>\n",
       "      <th>8</th>\n",
       "      <td>3256.680</td>\n",
       "      <td>3499.181</td>\n",
       "      <td>242.501</td>\n",
       "      <td>884.441185</td>\n",
       "      <td>569.137512</td>\n",
       "    </tr>\n",
       "    <tr>\n",
       "      <th>9</th>\n",
       "      <td>3540.849</td>\n",
       "      <td>3776.681</td>\n",
       "      <td>235.832</td>\n",
       "      <td>1152.361507</td>\n",
       "      <td>648.729243</td>\n",
       "    </tr>\n",
       "    <tr>\n",
       "      <th>10</th>\n",
       "      <td>3965.847</td>\n",
       "      <td>4001.683</td>\n",
       "      <td>35.836</td>\n",
       "      <td>1086.236801</td>\n",
       "      <td>670.770081</td>\n",
       "    </tr>\n",
       "  </tbody>\n",
       "</table>\n",
       "</div>"
      ],
      "text/plain": [
       "    start_time_ms  end_time_ms  duration_ms     end_x_px    end_y_px\n",
       "0           0.834      263.333      262.499   960.730133  475.019335\n",
       "1         269.999      614.167      344.168   902.034416  505.643252\n",
       "2         638.335      871.668      233.333  1103.725147  596.143473\n",
       "3         985.002     1381.670      396.668   793.391132  501.063530\n",
       "4        1390.835     1808.344      417.509   843.484268  466.657457\n",
       "5        1829.177     2138.346      309.169   969.043007  480.495788\n",
       "6        2203.345     2479.180      275.835  1108.123226  558.262464\n",
       "7        2621.680     3248.346      626.666   920.111818  531.553327\n",
       "8        3256.680     3499.181      242.501   884.441185  569.137512\n",
       "9        3540.849     3776.681      235.832  1152.361507  648.729243\n",
       "10       3965.847     4001.683       35.836  1086.236801  670.770081"
      ]
     },
     "execution_count": 5,
     "metadata": {},
     "output_type": "execute_result"
    }
   ],
   "source": [
    "fixations = detect_fixations(data_segment)\n",
    "fixations"
   ]
  },
  {
   "cell_type": "markdown",
   "id": "d796aa12",
   "metadata": {},
   "source": [
    "This returned dataframe contains a list of all detected fixations (one per row). If we were to calculate a few simple fixation metrics from the above:"
   ]
  },
  {
   "cell_type": "code",
   "execution_count": 6,
   "id": "8fd4a36d",
   "metadata": {},
   "outputs": [
    {
     "name": "stdout",
     "output_type": "stream",
     "text": [
      "Fixation count: 11\n",
      "Mean Fixation duration:  307.2741818181819\n",
      "Total fixation duration: 3380.0160000000005\n"
     ]
    }
   ],
   "source": [
    "print(\"Fixation count:\", len(fixations))\n",
    "print(\"Mean Fixation duration: \", fixations.duration_ms.mean())\n",
    "print(\"Total fixation duration:\", fixations.duration_ms.sum())"
   ]
  },
  {
   "cell_type": "code",
   "execution_count": null,
   "id": "5c9e853e-29b0-419e-964e-9175833f59df",
   "metadata": {},
   "outputs": [],
   "source": []
  }
 ],
 "metadata": {
  "kernelspec": {
   "display_name": "ccs",
   "language": "python",
   "name": "python3"
  },
  "language_info": {
   "codemirror_mode": {
    "name": "ipython",
    "version": 3
   },
   "file_extension": ".py",
   "mimetype": "text/x-python",
   "name": "python",
   "nbconvert_exporter": "python",
   "pygments_lexer": "ipython3",
   "version": "3.10.18"
  }
 },
 "nbformat": 4,
 "nbformat_minor": 5
}
