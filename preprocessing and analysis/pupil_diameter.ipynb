{
 "cells": [
  {
   "cell_type": "markdown",
   "id": "b31d60c3",
   "metadata": {},
   "source": [
    "# Pupil diameter\n",
    "- Preprocess noisy pupil diameter signal\n",
    "- Apply subtractive baseline correction"
   ]
  },
  {
   "cell_type": "code",
   "execution_count": null,
   "id": "f9df349c",
   "metadata": {},
   "outputs": [],
   "source": [
    "# Required libraries\n",
    "import pandas as pd\n",
    "import matplotlib.pyplot as plt"
   ]
  },
  {
   "cell_type": "code",
   "execution_count": null,
   "id": "8e1100b4",
   "metadata": {},
   "outputs": [],
   "source": [
    "# Load the csv file containing eye tracker data into a pandas DataFrame\n",
    "data = pd.read_csv(\"sample_eye_tracking_data.csv\")\n",
    "\n",
    "# Display the first 5 rows (from index 10_000 onwards, for a display sample)\n",
    "data[10_000:].head()"
   ]
  },
  {
   "cell_type": "markdown",
   "id": "72b4f9a8",
   "metadata": {},
   "source": [
    "## Visualizing the pupil diameter signal\n",
    "Visually inspecting the pupil diameter signal to check for noise and artifacts is an important part of pupillometry preprocessing ([Mathôt et al., 2018]).\n",
    "\n",
    "[Mathôt et al., 2018]: https://doi.org/10.3758/s13428-017-1007-2\n",
    "\n",
    "Since we will be plotting the pupil diameter many times for visual inspection, and also to check if the preprocessing pipelines have managed to successfully clean the data, it makes sense to create a function for this visualization.\n",
    "\n",
    "Below, we will create a simple function that encapsulates the plotting script, for ease of use within this notebook."
   ]
  },
  {
   "cell_type": "code",
   "execution_count": null,
   "id": "102ac92e",
   "metadata": {},
   "outputs": [],
   "source": [
    "def plot_pupil_dia(df):\n",
    "    \"\"\"\n",
    "    Plots the diameter and validity of the left pupil throughout the recording session.\n",
    "\n",
    "    Args:\n",
    "        - df (pd.DataFrame): The dataframe containing eye-tracking data.\n",
    "    \"\"\"\n",
    "    \n",
    "    plt.figure(figsize=(15, 5))\n",
    "    plt.plot(df.left_pupil_diameter, label='Left pupil diameter', color='k') # plot the left pupil diameter signal\n",
    "    plt.plot(df.left_pupil_validity, label='Left pupil validity') # plot the validty (either 0 or 1) of left pupil\n",
    "    plt.title('Left pupil diameter throughout the experiment session')\n",
    "    plt.legend()\n",
    "    plt.tight_layout()\n",
    "    plt.show()"
   ]
  },
  {
   "cell_type": "code",
   "execution_count": null,
   "id": "ccccd494",
   "metadata": {},
   "outputs": [],
   "source": [
    "# Usage\n",
    "plot_pupil_dia(data)"
   ]
  },
  {
   "cell_type": "markdown",
   "id": "a399942d",
   "metadata": {},
   "source": [
    "A study-specific visualization that is able to convey the various segments of a recording session can also be helpful.\n",
    "\n",
    "My study-specific viz function, `overview_plot` can be found in `experiment_specific_utils.common`. <br>\n",
    "This function applies a color to the different segments of my recording: fixation cross segment, scrambled image segment, and stimulus image segment."
   ]
  },
  {
   "cell_type": "code",
   "execution_count": null,
   "id": "ad54683b",
   "metadata": {},
   "outputs": [],
   "source": [
    "from experiment_specific_utils.common import overview_plot\n",
    "help(overview_plot)\n",
    "\n",
    "overview_plot(data)"
   ]
  },
  {
   "cell_type": "markdown",
   "id": "248ca492",
   "metadata": {},
   "source": [
    "# Preprocessing the pupil diameter signal"
   ]
  },
  {
   "cell_type": "markdown",
   "id": "00b1cd81",
   "metadata": {},
   "source": [
    "## Removal of invalid data\n",
    "Use the function `remove_invalids` from `compute_eye_metrics.utils` to drop all rows that do not contain pupil diameter data (likely due to blinks), and noisy data that surrounds a blink."
   ]
  },
  {
   "cell_type": "code",
   "execution_count": null,
   "id": "06dcebc3",
   "metadata": {},
   "outputs": [],
   "source": [
    "# Import the function and print docstring\n",
    "from compute_eye_metrics.utils import remove_invalids\n",
    "help(remove_invalids)"
   ]
  },
  {
   "cell_type": "code",
   "execution_count": null,
   "id": "8d8650cb",
   "metadata": {},
   "outputs": [],
   "source": [
    "# Usage\n",
    "data_invalids_removed = remove_invalids(data)"
   ]
  },
  {
   "cell_type": "code",
   "execution_count": null,
   "id": "02d5e203",
   "metadata": {},
   "outputs": [],
   "source": [
    "plot_pupil_dia(data_invalids_removed)"
   ]
  },
  {
   "cell_type": "markdown",
   "id": "c85bb039",
   "metadata": {},
   "source": [
    "## Replacing invalid data\n",
    "Use the function `replace_invalids_w_nans` from `compute_eye_metrics.utils` to replace all rows that do not contain pupil diameter. Invalid data will be replaced with `np.nan`.\n",
    "\n",
    "This function ensures that the length of the data stays the same, while ensuring the removal of noisy data.\n",
    "\n",
    "*Note: While not used for pupil diameter, this function is a crucial component of saccade extraction.*"
   ]
  },
  {
   "cell_type": "code",
   "execution_count": null,
   "id": "474b172e",
   "metadata": {},
   "outputs": [],
   "source": [
    "# Import the function and print docstring\n",
    "from compute_eye_metrics.utils import replace_invalids_w_nans\n",
    "help(replace_invalids_w_nans)"
   ]
  },
  {
   "cell_type": "code",
   "execution_count": null,
   "id": "883f5151",
   "metadata": {},
   "outputs": [],
   "source": [
    "# Usage\n",
    "data_invalids_replaced = replace_invalids_w_nans(data)"
   ]
  },
  {
   "cell_type": "code",
   "execution_count": null,
   "id": "b10b0822",
   "metadata": {},
   "outputs": [],
   "source": [
    "plot_pupil_dia(data_invalids_replaced)"
   ]
  },
  {
   "cell_type": "markdown",
   "id": "d7e4d152",
   "metadata": {},
   "source": [
    "## Applying smoothing to the pupil diameter signal\n",
    "Use the function `apply_smoothing` from `compute_eye_metrics.pupildiameter` to smooth the pupil diameter signal."
   ]
  },
  {
   "cell_type": "code",
   "execution_count": null,
   "id": "c7473ed0",
   "metadata": {},
   "outputs": [],
   "source": [
    "# Import the function and print docstring\n",
    "from compute_eye_metrics.pupildiameter import apply_smoothing\n",
    "help(apply_smoothing)"
   ]
  },
  {
   "cell_type": "code",
   "execution_count": null,
   "id": "f57c4de9",
   "metadata": {},
   "outputs": [],
   "source": [
    "# Usage\n",
    "# Note: Use the dataframe from which invalid and noisy data has been removed\n",
    "data_invalids_removed_smoothed = apply_smoothing(data_invalids_removed, plot_fig=True)"
   ]
  },
  {
   "cell_type": "markdown",
   "id": "2b5626df",
   "metadata": {},
   "source": [
    "# Performing baseline correction of pupil diameter\n",
    "Use the function `baseline_correction` from `compute_eye_metrics.pupildiameter` to perform **subtractive baseline correction** of the pupil diameter signal.\n",
    "\n",
    "The signal is corrected by subtracting the baseline (scrambled image) value from its corresponding stimulus period. <br>\n",
    "The baseline value is calculated by taking the mean of a 500 ms period, towards the end of the scrambled image viewing period.\n",
    "\n",
    "Each pupil is baseline corrected individually.\n",
    "\n",
    "The dataframe returned by this function has two new columns, containing baseline-corrected pupil diameter values: <br>\n",
    "`left_pupil_diameter_bc` and `left_pupil_diameter_bc`."
   ]
  },
  {
   "cell_type": "code",
   "execution_count": null,
   "id": "4226e3a2",
   "metadata": {},
   "outputs": [],
   "source": [
    "# Import the function and print docstring\n",
    "from compute_eye_metrics.pupildiameter import baseline_correction\n",
    "help(baseline_correction)"
   ]
  },
  {
   "cell_type": "code",
   "execution_count": null,
   "id": "78b9e694",
   "metadata": {},
   "outputs": [],
   "source": [
    "# Usage\n",
    "# Note: Use the dataframe where invalids have been removed, and smoothing applied\n",
    "data_baseline_corrected = baseline_correction(data_invalids_removed_smoothed)"
   ]
  },
  {
   "cell_type": "code",
   "execution_count": null,
   "id": "6571b806",
   "metadata": {},
   "outputs": [],
   "source": [
    "# Visualize to check\n",
    "# (this time, plot the new columns obtained after running baseline correction: left|right_pupil_diameter_bc)\n",
    "plt.figure(figsize=(15, 5))\n",
    "plt.plot(data_baseline_corrected.left_pupil_diameter_bc, label='Left pupil diameter (baseline-corrected)', color='k')\n",
    "plt.title('Left pupil diameter throughout the experiment session')\n",
    "plt.legend()\n",
    "plt.tight_layout()\n",
    "plt.show()"
   ]
  },
  {
   "cell_type": "markdown",
   "id": "c4a82576",
   "metadata": {},
   "source": [
    "In the plot above, the missing segments are those which were used as baseline (scrambled image). In this implementation, the baseline segments (where `df.remarks==\"SCRAMBLED IMAGE\"`) do not hold any baseline corrected pupil diameter value."
   ]
  },
  {
   "cell_type": "markdown",
   "id": "cc440836",
   "metadata": {},
   "source": [
    "# Getting the pupil diameter\n",
    "After preprocessing and baseline-correcting the pupil diameter signal, the mean and sd of the pupil diameter can be computed. This is study-specific, depending on which exact segment/task the metrics need to be computed for.\n",
    "\n",
    "Shown below is a very general overview of the mean and sd for both absolute and baseline-corrected pupil diameters, computed for the entire recording session."
   ]
  },
  {
   "cell_type": "code",
   "execution_count": null,
   "id": "51f2cf1d",
   "metadata": {},
   "outputs": [],
   "source": [
    "print(\"PUPIL DIAMETER (ABSOLUTE, AFTER SMOOTHING) - MM\")\n",
    "print(\"Left mean:\\t\", data_baseline_corrected.left_pupil_diameter_smooth.mean())\n",
    "print(\"Left std:\\t\", data_baseline_corrected.left_pupil_diameter_smooth.std())\n",
    "print(\"Right mean:\\t\", data_baseline_corrected.right_pupil_diameter_smooth.mean())\n",
    "print(\"Right std:\\t\", data_baseline_corrected.right_pupil_diameter_smooth.std())\n",
    "\n",
    "print(\"\\nPUPIL DIAMETER (BASELINE-CORRECTED) - MM\")\n",
    "print(\"Left mean:\\t\", data_baseline_corrected.left_pupil_diameter_bc.mean())\n",
    "print(\"Left std:\\t\", data_baseline_corrected.left_pupil_diameter_bc.std())\n",
    "print(\"Right mean:\\t\", data_baseline_corrected.right_pupil_diameter_bc.mean())\n",
    "print(\"Right std:\\t\", data_baseline_corrected.right_pupil_diameter_bc.std())"
   ]
  },
  {
   "cell_type": "code",
   "execution_count": null,
   "id": "63b9038f",
   "metadata": {},
   "outputs": [],
   "source": []
  }
 ],
 "metadata": {
  "kernelspec": {
   "display_name": "ccs",
   "language": "python",
   "name": "python3"
  },
  "language_info": {
   "codemirror_mode": {
    "name": "ipython",
    "version": 3
   },
   "file_extension": ".py",
   "mimetype": "text/x-python",
   "name": "python",
   "nbconvert_exporter": "python",
   "pygments_lexer": "ipython3",
   "version": "3.10.18"
  }
 },
 "nbformat": 4,
 "nbformat_minor": 5
}
