{
 "cells": [
  {
   "cell_type": "markdown",
   "id": "b31d60c3",
   "metadata": {},
   "source": [
    "# Pupil diameter\n",
    "- Visualize pupil diameter throughout the experiment\n",
    "- Preprocess noisy pupil diameter signal\n",
    "- Apply subtractive baseline correction"
   ]
  },
  {
   "cell_type": "code",
   "execution_count": 1,
   "id": "8e1100b4",
   "metadata": {},
   "outputs": [
    {
     "name": "stderr",
     "output_type": "stream",
     "text": [
      "C:\\Users\\Deepshik\\AppData\\Local\\Temp\\ipykernel_10160\\3450768306.py:5: DtypeWarning: Columns (17,18) have mixed types. Specify dtype option on import or set low_memory=False.\n",
      "  data = pd.read_csv(\"sample_eye_tracking_data.csv\")\n"
     ]
    },
    {
     "data": {
      "text/html": [
       "<div>\n",
       "<style scoped>\n",
       "    .dataframe tbody tr th:only-of-type {\n",
       "        vertical-align: middle;\n",
       "    }\n",
       "\n",
       "    .dataframe tbody tr th {\n",
       "        vertical-align: top;\n",
       "    }\n",
       "\n",
       "    .dataframe thead th {\n",
       "        text-align: right;\n",
       "    }\n",
       "</style>\n",
       "<table border=\"1\" class=\"dataframe\">\n",
       "  <thead>\n",
       "    <tr style=\"text-align: right;\">\n",
       "      <th></th>\n",
       "      <th>device_time_stamp</th>\n",
       "      <th>system_time_stamp</th>\n",
       "      <th>left_gaze_point_on_display_area</th>\n",
       "      <th>left_gaze_point_in_user_coordinate_system</th>\n",
       "      <th>left_gaze_point_validity</th>\n",
       "      <th>left_pupil_diameter</th>\n",
       "      <th>left_pupil_validity</th>\n",
       "      <th>left_gaze_origin_in_user_coordinate_system</th>\n",
       "      <th>left_gaze_origin_validity</th>\n",
       "      <th>right_gaze_point_on_display_area</th>\n",
       "      <th>...</th>\n",
       "      <th>right_gaze_point_validity</th>\n",
       "      <th>right_pupil_diameter</th>\n",
       "      <th>right_pupil_validity</th>\n",
       "      <th>right_gaze_origin_in_user_coordinate_system</th>\n",
       "      <th>right_gaze_origin_validity</th>\n",
       "      <th>stim_present</th>\n",
       "      <th>stim_cat</th>\n",
       "      <th>stim_id</th>\n",
       "      <th>remarks</th>\n",
       "      <th>seconds</th>\n",
       "    </tr>\n",
       "  </thead>\n",
       "  <tbody>\n",
       "    <tr>\n",
       "      <th>10000</th>\n",
       "      <td>641084409</td>\n",
       "      <td>4303640566118</td>\n",
       "      <td>(0.5161799788475037, 0.42415767908096313)</td>\n",
       "      <td>(8.543044090270996, 171.51742553710938, 62.427...</td>\n",
       "      <td>1</td>\n",
       "      <td>2.022293</td>\n",
       "      <td>1</td>\n",
       "      <td>(-24.427112579345703, -50.60432434082031, 662....</td>\n",
       "      <td>1</td>\n",
       "      <td>(0.5196371078491211, 0.4163331985473633)</td>\n",
       "      <td>...</td>\n",
       "      <td>1</td>\n",
       "      <td>2.273132</td>\n",
       "      <td>1</td>\n",
       "      <td>(41.3125114440918, -50.29133224487305, 660.508...</td>\n",
       "      <td>1</td>\n",
       "      <td>True</td>\n",
       "      <td>positive</td>\n",
       "      <td>Landscapes_142_h.jpg</td>\n",
       "      <td>NaN</td>\n",
       "      <td>641.084409</td>\n",
       "    </tr>\n",
       "    <tr>\n",
       "      <th>10001</th>\n",
       "      <td>641085243</td>\n",
       "      <td>4303640566952</td>\n",
       "      <td>(0.5167351961135864, 0.4226061701774597)</td>\n",
       "      <td>(8.83620548248291, 171.95045471191406, 62.5847...</td>\n",
       "      <td>1</td>\n",
       "      <td>2.026871</td>\n",
       "      <td>1</td>\n",
       "      <td>(-24.425159454345703, -50.601985931396484, 662...</td>\n",
       "      <td>1</td>\n",
       "      <td>(0.518481433391571, 0.4141293168067932)</td>\n",
       "      <td>...</td>\n",
       "      <td>1</td>\n",
       "      <td>2.277786</td>\n",
       "      <td>1</td>\n",
       "      <td>(41.30992889404297, -50.29154968261719, 660.48...</td>\n",
       "      <td>1</td>\n",
       "      <td>True</td>\n",
       "      <td>positive</td>\n",
       "      <td>Landscapes_142_h.jpg</td>\n",
       "      <td>NaN</td>\n",
       "      <td>641.085243</td>\n",
       "    </tr>\n",
       "    <tr>\n",
       "      <th>10002</th>\n",
       "      <td>641086077</td>\n",
       "      <td>4303640567786</td>\n",
       "      <td>(0.51610267162323, 0.42299050092697144)</td>\n",
       "      <td>(8.502237319946289, 171.84320068359375, 62.545...</td>\n",
       "      <td>1</td>\n",
       "      <td>2.030792</td>\n",
       "      <td>1</td>\n",
       "      <td>(-24.427412033081055, -50.60201644897461, 662....</td>\n",
       "      <td>1</td>\n",
       "      <td>(0.5182624459266663, 0.4123406410217285)</td>\n",
       "      <td>...</td>\n",
       "      <td>1</td>\n",
       "      <td>2.262253</td>\n",
       "      <td>1</td>\n",
       "      <td>(41.3126335144043, -50.286399841308594, 660.50...</td>\n",
       "      <td>1</td>\n",
       "      <td>True</td>\n",
       "      <td>positive</td>\n",
       "      <td>Landscapes_142_h.jpg</td>\n",
       "      <td>NaN</td>\n",
       "      <td>641.086077</td>\n",
       "    </tr>\n",
       "    <tr>\n",
       "      <th>10003</th>\n",
       "      <td>641086911</td>\n",
       "      <td>4303640568620</td>\n",
       "      <td>(0.5187034010887146, 0.42432698607444763)</td>\n",
       "      <td>(9.875415802001953, 171.47018432617188, 62.409...</td>\n",
       "      <td>1</td>\n",
       "      <td>2.018906</td>\n",
       "      <td>1</td>\n",
       "      <td>(-24.430147171020508, -50.602115631103516, 662...</td>\n",
       "      <td>1</td>\n",
       "      <td>(0.5180981159210205, 0.4153512120246887)</td>\n",
       "      <td>...</td>\n",
       "      <td>1</td>\n",
       "      <td>2.267181</td>\n",
       "      <td>1</td>\n",
       "      <td>(41.309783935546875, -50.283485412597656, 660....</td>\n",
       "      <td>1</td>\n",
       "      <td>True</td>\n",
       "      <td>positive</td>\n",
       "      <td>Landscapes_142_h.jpg</td>\n",
       "      <td>NaN</td>\n",
       "      <td>641.086911</td>\n",
       "    </tr>\n",
       "    <tr>\n",
       "      <th>10004</th>\n",
       "      <td>641087742</td>\n",
       "      <td>4303640569451</td>\n",
       "      <td>(0.5180153846740723, 0.4274247884750366)</td>\n",
       "      <td>(9.512117385864258, 170.60565185546875, 62.095...</td>\n",
       "      <td>1</td>\n",
       "      <td>2.023651</td>\n",
       "      <td>1</td>\n",
       "      <td>(-24.4301815032959, -50.6031608581543, 662.069...</td>\n",
       "      <td>1</td>\n",
       "      <td>(0.5187749862670898, 0.41708478331565857)</td>\n",
       "      <td>...</td>\n",
       "      <td>1</td>\n",
       "      <td>2.272079</td>\n",
       "      <td>1</td>\n",
       "      <td>(41.30982971191406, -50.2877197265625, 660.484...</td>\n",
       "      <td>1</td>\n",
       "      <td>True</td>\n",
       "      <td>positive</td>\n",
       "      <td>Landscapes_142_h.jpg</td>\n",
       "      <td>NaN</td>\n",
       "      <td>641.087742</td>\n",
       "    </tr>\n",
       "  </tbody>\n",
       "</table>\n",
       "<p>5 rows × 21 columns</p>\n",
       "</div>"
      ],
      "text/plain": [
       "       device_time_stamp  system_time_stamp  \\\n",
       "10000          641084409      4303640566118   \n",
       "10001          641085243      4303640566952   \n",
       "10002          641086077      4303640567786   \n",
       "10003          641086911      4303640568620   \n",
       "10004          641087742      4303640569451   \n",
       "\n",
       "                 left_gaze_point_on_display_area  \\\n",
       "10000  (0.5161799788475037, 0.42415767908096313)   \n",
       "10001   (0.5167351961135864, 0.4226061701774597)   \n",
       "10002    (0.51610267162323, 0.42299050092697144)   \n",
       "10003  (0.5187034010887146, 0.42432698607444763)   \n",
       "10004   (0.5180153846740723, 0.4274247884750366)   \n",
       "\n",
       "               left_gaze_point_in_user_coordinate_system  \\\n",
       "10000  (8.543044090270996, 171.51742553710938, 62.427...   \n",
       "10001  (8.83620548248291, 171.95045471191406, 62.5847...   \n",
       "10002  (8.502237319946289, 171.84320068359375, 62.545...   \n",
       "10003  (9.875415802001953, 171.47018432617188, 62.409...   \n",
       "10004  (9.512117385864258, 170.60565185546875, 62.095...   \n",
       "\n",
       "       left_gaze_point_validity  left_pupil_diameter  left_pupil_validity  \\\n",
       "10000                         1             2.022293                    1   \n",
       "10001                         1             2.026871                    1   \n",
       "10002                         1             2.030792                    1   \n",
       "10003                         1             2.018906                    1   \n",
       "10004                         1             2.023651                    1   \n",
       "\n",
       "              left_gaze_origin_in_user_coordinate_system  \\\n",
       "10000  (-24.427112579345703, -50.60432434082031, 662....   \n",
       "10001  (-24.425159454345703, -50.601985931396484, 662...   \n",
       "10002  (-24.427412033081055, -50.60201644897461, 662....   \n",
       "10003  (-24.430147171020508, -50.602115631103516, 662...   \n",
       "10004  (-24.4301815032959, -50.6031608581543, 662.069...   \n",
       "\n",
       "       left_gaze_origin_validity           right_gaze_point_on_display_area  \\\n",
       "10000                          1   (0.5196371078491211, 0.4163331985473633)   \n",
       "10001                          1    (0.518481433391571, 0.4141293168067932)   \n",
       "10002                          1   (0.5182624459266663, 0.4123406410217285)   \n",
       "10003                          1   (0.5180981159210205, 0.4153512120246887)   \n",
       "10004                          1  (0.5187749862670898, 0.41708478331565857)   \n",
       "\n",
       "       ... right_gaze_point_validity  right_pupil_diameter  \\\n",
       "10000  ...                         1              2.273132   \n",
       "10001  ...                         1              2.277786   \n",
       "10002  ...                         1              2.262253   \n",
       "10003  ...                         1              2.267181   \n",
       "10004  ...                         1              2.272079   \n",
       "\n",
       "       right_pupil_validity  \\\n",
       "10000                     1   \n",
       "10001                     1   \n",
       "10002                     1   \n",
       "10003                     1   \n",
       "10004                     1   \n",
       "\n",
       "             right_gaze_origin_in_user_coordinate_system  \\\n",
       "10000  (41.3125114440918, -50.29133224487305, 660.508...   \n",
       "10001  (41.30992889404297, -50.29154968261719, 660.48...   \n",
       "10002  (41.3126335144043, -50.286399841308594, 660.50...   \n",
       "10003  (41.309783935546875, -50.283485412597656, 660....   \n",
       "10004  (41.30982971191406, -50.2877197265625, 660.484...   \n",
       "\n",
       "      right_gaze_origin_validity  stim_present  stim_cat  \\\n",
       "10000                          1          True  positive   \n",
       "10001                          1          True  positive   \n",
       "10002                          1          True  positive   \n",
       "10003                          1          True  positive   \n",
       "10004                          1          True  positive   \n",
       "\n",
       "                    stim_id remarks     seconds  \n",
       "10000  Landscapes_142_h.jpg     NaN  641.084409  \n",
       "10001  Landscapes_142_h.jpg     NaN  641.085243  \n",
       "10002  Landscapes_142_h.jpg     NaN  641.086077  \n",
       "10003  Landscapes_142_h.jpg     NaN  641.086911  \n",
       "10004  Landscapes_142_h.jpg     NaN  641.087742  \n",
       "\n",
       "[5 rows x 21 columns]"
      ]
     },
     "execution_count": 1,
     "metadata": {},
     "output_type": "execute_result"
    }
   ],
   "source": [
    "# Required library\n",
    "import pandas as pd\n",
    "\n",
    "# Load the csv file containing eye tracker data into a pandas DataFrame\n",
    "data = pd.read_csv(\"sample_eye_tracking_data.csv\")\n",
    "\n",
    "# Display the first 5 rows (from index 10_000 onwards, for a display sample)\n",
    "data[10_000:].head()"
   ]
  },
  {
   "cell_type": "markdown",
   "id": "670985e3",
   "metadata": {},
   "source": [
    "# Visualizing the pupil diameter signal\n",
    "Use the function `overview_plot` from `utils.common` to visualize the pupil diameter signal."
   ]
  },
  {
   "cell_type": "code",
   "execution_count": null,
   "id": "faf84963",
   "metadata": {},
   "outputs": [],
   "source": [
    "# Import the function\n",
    "from utils.common import overview_plot\n",
    "\n",
    "# Print the function docstring for description and arguments\n",
    "help(overview_plot)"
   ]
  },
  {
   "cell_type": "code",
   "execution_count": null,
   "id": "2fec84d8",
   "metadata": {},
   "outputs": [],
   "source": [
    "# Usage\n",
    "overview_plot(data, pupil_to_plot='left')"
   ]
  },
  {
   "cell_type": "markdown",
   "id": "248ca492",
   "metadata": {},
   "source": [
    "# Preprocessing the pupil diameter signal"
   ]
  },
  {
   "cell_type": "markdown",
   "id": "00b1cd81",
   "metadata": {},
   "source": [
    "## Removal of invalid data\n",
    "Use the function `remove_invalids` from `utils.common` to drop all rows that do not contain pupil diameter data (likely due to blinks), and noisy data that surrounds a blink."
   ]
  },
  {
   "cell_type": "code",
   "execution_count": null,
   "id": "06dcebc3",
   "metadata": {},
   "outputs": [],
   "source": [
    "# Import the function and print docstring\n",
    "from utils.common import remove_invalids\n",
    "help(remove_invalids)"
   ]
  },
  {
   "cell_type": "code",
   "execution_count": null,
   "id": "8d8650cb",
   "metadata": {},
   "outputs": [],
   "source": [
    "# Usage\n",
    "data_invalids_removed = remove_invalids(data)"
   ]
  },
  {
   "cell_type": "code",
   "execution_count": null,
   "id": "02d5e203",
   "metadata": {},
   "outputs": [],
   "source": [
    "# Visualize to check\n",
    "overview_plot(data_invalids_removed, pupil_to_plot='left')"
   ]
  },
  {
   "cell_type": "markdown",
   "id": "c85bb039",
   "metadata": {},
   "source": [
    "## Replacing invalid data\n",
    "Use the function `replace_invalids_w_nans` from `utils.common` to replace all rows that do not contain pupil diameter. Invalid data will be replaced with `np.nan`.\n",
    "\n",
    "This function ensures that the length of the data stays the same, while ensuring the removal of noisy data.\n",
    "\n",
    "*Note: While not used for pupil diameter, this function is a crucial component of saccade extraction.*"
   ]
  },
  {
   "cell_type": "code",
   "execution_count": null,
   "id": "474b172e",
   "metadata": {},
   "outputs": [],
   "source": [
    "# Import the function and print docstring\n",
    "from utils.common import replace_invalids_w_nans\n",
    "help(replace_invalids_w_nans)"
   ]
  },
  {
   "cell_type": "code",
   "execution_count": null,
   "id": "883f5151",
   "metadata": {},
   "outputs": [],
   "source": [
    "# Usage\n",
    "data_invalids_replaced = replace_invalids_w_nans(data)"
   ]
  },
  {
   "cell_type": "code",
   "execution_count": null,
   "id": "b10b0822",
   "metadata": {},
   "outputs": [],
   "source": [
    "# Visualize to check\n",
    "overview_plot(data_invalids_replaced, pupil_to_plot='left')"
   ]
  },
  {
   "cell_type": "markdown",
   "id": "d7e4d152",
   "metadata": {},
   "source": [
    "## Applying smoothing to the pupil diameter signal\n",
    "Use the function `apply_smoothing` from `utils.pupildiameter` to smooth the pupil diameter signal."
   ]
  },
  {
   "cell_type": "code",
   "execution_count": null,
   "id": "c7473ed0",
   "metadata": {},
   "outputs": [],
   "source": [
    "# Import the function and print docstring\n",
    "from utils.pupildiameter import apply_smoothing\n",
    "help(apply_smoothing)"
   ]
  },
  {
   "cell_type": "code",
   "execution_count": null,
   "id": "f57c4de9",
   "metadata": {},
   "outputs": [],
   "source": [
    "# Usage\n",
    "# Note: Use the dataframe from which invalid and noisy data has been removed\n",
    "data_invalids_removed_smoothed = apply_smoothing(data_invalids_removed, plot_fig=True)"
   ]
  },
  {
   "cell_type": "markdown",
   "id": "2b5626df",
   "metadata": {},
   "source": [
    "# Performing baseline correction of pupil diameter\n",
    "Use the function `baseline_correction` from `utils.pupildiameter` to perform **subtractive baseline correction** of the pupil diameter signal.\n",
    "\n",
    "The signal is corrected by subtracting the baseline (scrambled image) value from its corresponding stimulus period. <br>\n",
    "The baseline value is calculated by taking the mean of a 500 ms period, towards the end of the scrambled image viewing period.\n",
    "\n",
    "Each pupil is baseline corrected individually.\n",
    "\n",
    "The dataframe returned by this function has two new columns, containing baseline-corrected pupil diameter values: <br>\n",
    "`left_pupil_diameter_bc` and `left_pupil_diameter_bc`."
   ]
  },
  {
   "cell_type": "code",
   "execution_count": null,
   "id": "4226e3a2",
   "metadata": {},
   "outputs": [],
   "source": [
    "# Import the function and print docstring\n",
    "from utils.pupildiameter import baseline_correction\n",
    "help(baseline_correction)"
   ]
  },
  {
   "cell_type": "code",
   "execution_count": null,
   "id": "78b9e694",
   "metadata": {},
   "outputs": [],
   "source": [
    "# Usage\n",
    "# Note: Use the dataframe where invalids have been removed, and smoothing applied\n",
    "data_baseline_corrected = baseline_correction(data_invalids_removed_smoothed)"
   ]
  },
  {
   "cell_type": "code",
   "execution_count": null,
   "id": "6571b806",
   "metadata": {},
   "outputs": [],
   "source": [
    "# Visualize to check\n",
    "overview_plot(data_baseline_corrected, baseline_corrected=True, pupil_to_plot='left', plot_validity=False)"
   ]
  }
 ],
 "metadata": {
  "kernelspec": {
   "display_name": "ccs",
   "language": "python",
   "name": "python3"
  },
  "language_info": {
   "codemirror_mode": {
    "name": "ipython",
    "version": 3
   },
   "file_extension": ".py",
   "mimetype": "text/x-python",
   "name": "python",
   "nbconvert_exporter": "python",
   "pygments_lexer": "ipython3",
   "version": "3.10.18"
  }
 },
 "nbformat": 4,
 "nbformat_minor": 5
}
