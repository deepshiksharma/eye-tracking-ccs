{
 "cells": [
  {
   "cell_type": "markdown",
   "id": "32f78c0a",
   "metadata": {},
   "source": [
    "# Saccadic metrics\n",
    "- Saccade count\n",
    "- Mean saccadic duration\n",
    "- Total saccadic duration\n",
    "- Mean saccadic amplitude\n",
    "- Peak saccadic velocity"
   ]
  },
  {
   "cell_type": "code",
   "execution_count": 1,
   "id": "363a14fb-9d42-478a-915b-03e597e3eedb",
   "metadata": {},
   "outputs": [],
   "source": [
    "# Required libraries\n",
    "import pandas as pd\n",
    "from experiment_specific_utils.common import extract_emotion_rating_segments"
   ]
  },
  {
   "cell_type": "code",
   "execution_count": 2,
   "id": "b545a26a-43a4-4b66-8b54-0577c4ee6e64",
   "metadata": {},
   "outputs": [
    {
     "name": "stderr",
     "output_type": "stream",
     "text": [
      "C:\\Users\\Deepshik\\AppData\\Local\\Temp\\ipykernel_4280\\37205963.py:2: DtypeWarning: Columns (17,18) have mixed types. Specify dtype option on import or set low_memory=False.\n",
      "  data = pd.read_csv(r\"D:\\GITHUB\\eye-tracking-ccs\\preprocessing and analysis\\sample_eye_tracking_data.csv\")\n"
     ]
    }
   ],
   "source": [
    "# Load the sample eye tracking data, for calculating fixation metrics during that recording\n",
    "data = pd.read_csv(r\"D:\\GITHUB\\eye-tracking-ccs\\preprocessing and analysis\\sample_eye_tracking_data.csv\")"
   ]
  },
  {
   "cell_type": "markdown",
   "id": "a761faa8-7e83-418a-89af-c262899d223d",
   "metadata": {},
   "source": [
    "**Note:** Depending on how your experiment is structured, you can segment the eye tracking data into different segments. <br>\n",
    "Here, I already have functions that automate the segmentation of data into stimulus viewing and rating segments. <br>\n",
    "These functions can be found in `experiment_specific_utils.common` as `extract_stim_viewing_segments` and `extract_emotion_rating_segments`.\n",
    "\n",
    "You can make slight modifications to the existing functions to can accomodate another experiment design structure."
   ]
  },
  {
   "cell_type": "code",
   "execution_count": 3,
   "id": "19d96711-fef6-4105-9f8b-514a70911571",
   "metadata": {},
   "outputs": [],
   "source": [
    "# For the sake of example, let us extract saccadic metrics during the happy emotion rating segment of one stimulus image.\n",
    "data_segment = extract_emotion_rating_segments(data)['Landscapes_139_h.jpg']['happy']"
   ]
  },
  {
   "cell_type": "markdown",
   "id": "4c98cf10-a343-48a5-b243-c3430d22b7c5",
   "metadata": {},
   "source": [
    "# Function usage\n",
    "The function `detect_saccades` from `compute_eye_metrics.saccades` is used to extract saccadic metrics from a given dataframe.\n",
    "\n",
    "This function returns two dataframes, and one dictionary.\n",
    "\n",
    "The first returned df contains all detected saccades, along with their corresponding metrics. <br>\n",
    "The second returned df contains the gaze trace used during the detection of saccades. <br>\n",
    "The dict object contains some diagnostic and configuration values used for saccade detection."
   ]
  },
  {
   "cell_type": "code",
   "execution_count": 4,
   "id": "ff0c4a6c-d5d8-4e06-8316-2edec1e34652",
   "metadata": {},
   "outputs": [
    {
     "name": "stdout",
     "output_type": "stream",
     "text": [
      "Help on function detect_saccades in module compute_eye_metrics.saccades:\n",
      "\n",
      "detect_saccades(dataframe, ts_col='device_time_stamp', ts_unit_microsec=True, fs=1200.0, smoothing_window_samples=7, vel_threshold_k=6.0, min_duration_ms=10, max_duration_ms=150, min_amplitude_norm=0.02, max_amplitude_norm=1.2, merge_gap_ms=5.0, interp_limit_s=0.02)\n",
      "    Extracts saccadic metrics from a given dataframe.\n",
      "    \n",
      "    Args:\n",
      "        - dataframe (pd.DataFrame): The dataframe containing eye-tracking data.\n",
      "        - ts_col (str, optional):   Name of the column that contains timestamp. Defaults to 'device_time_stamp'.\n",
      "        - ts_unit_microsec (bool, optional):    Whether the timestamps are in microseconds. Defaults to True.\n",
      "        - fs (numeric, optional):   Sampling rate. Defaults to 1200.\n",
      "        - smoothing_window_samples, vel_threshold_k, min_duration_ms, max_duration_ms,\n",
      "          min_amplitude_norm, max_amplitude_norm, merge_gap_ms, interp_limit_s: Various optional parameters for saccadic detection.\n",
      "    \n",
      "    Returns:\n",
      "        - saccades (pd.DataFrame):  The dataframe containing all detected saccades, along with their corresponding metrics.\n",
      "        - G (pd.DataFrame): The gaze trace used by the saccade detector function.\n",
      "        - metadata (dict):  Metadata containing a few diagnostic and configuration values used for saccade detection.\n",
      "\n"
     ]
    }
   ],
   "source": [
    "from compute_eye_metrics.saccades import detect_saccades\n",
    "help(detect_saccades)"
   ]
  },
  {
   "cell_type": "code",
   "execution_count": 7,
   "id": "e0a4ee77-fabb-4642-8e20-3bea4e26f045",
   "metadata": {},
   "outputs": [
    {
     "data": {
      "text/html": [
       "<div>\n",
       "<style scoped>\n",
       "    .dataframe tbody tr th:only-of-type {\n",
       "        vertical-align: middle;\n",
       "    }\n",
       "\n",
       "    .dataframe tbody tr th {\n",
       "        vertical-align: top;\n",
       "    }\n",
       "\n",
       "    .dataframe thead th {\n",
       "        text-align: right;\n",
       "    }\n",
       "</style>\n",
       "<table border=\"1\" class=\"dataframe\">\n",
       "  <thead>\n",
       "    <tr style=\"text-align: right;\">\n",
       "      <th></th>\n",
       "      <th>onset_time_s</th>\n",
       "      <th>offset_time_s</th>\n",
       "      <th>duration_ms</th>\n",
       "      <th>amplitude_norm</th>\n",
       "      <th>peak_velocity_norm_per_s</th>\n",
       "      <th>start_x</th>\n",
       "      <th>start_y</th>\n",
       "      <th>end_x</th>\n",
       "      <th>end_y</th>\n",
       "      <th>direction_deg</th>\n",
       "    </tr>\n",
       "  </thead>\n",
       "  <tbody>\n",
       "    <tr>\n",
       "      <th>0</th>\n",
       "      <td>713.452116</td>\n",
       "      <td>713.469615</td>\n",
       "      <td>17.499</td>\n",
       "      <td>0.050938</td>\n",
       "      <td>5.202209</td>\n",
       "      <td>0.492018</td>\n",
       "      <td>0.240230</td>\n",
       "      <td>0.533035</td>\n",
       "      <td>0.210026</td>\n",
       "      <td>-36.367527</td>\n",
       "    </tr>\n",
       "    <tr>\n",
       "      <th>1</th>\n",
       "      <td>713.642949</td>\n",
       "      <td>713.660449</td>\n",
       "      <td>17.500</td>\n",
       "      <td>0.077350</td>\n",
       "      <td>9.681733</td>\n",
       "      <td>0.552224</td>\n",
       "      <td>0.203951</td>\n",
       "      <td>0.616949</td>\n",
       "      <td>0.161599</td>\n",
       "      <td>-33.198221</td>\n",
       "    </tr>\n",
       "    <tr>\n",
       "      <th>2</th>\n",
       "      <td>713.998784</td>\n",
       "      <td>714.072948</td>\n",
       "      <td>74.164</td>\n",
       "      <td>0.615311</td>\n",
       "      <td>16.642844</td>\n",
       "      <td>0.615993</td>\n",
       "      <td>0.165577</td>\n",
       "      <td>0.131313</td>\n",
       "      <td>0.544644</td>\n",
       "      <td>141.971167</td>\n",
       "    </tr>\n",
       "    <tr>\n",
       "      <th>3</th>\n",
       "      <td>714.231282</td>\n",
       "      <td>714.250449</td>\n",
       "      <td>19.167</td>\n",
       "      <td>0.051723</td>\n",
       "      <td>7.839512</td>\n",
       "      <td>0.128462</td>\n",
       "      <td>0.548544</td>\n",
       "      <td>0.122669</td>\n",
       "      <td>0.599942</td>\n",
       "      <td>96.430392</td>\n",
       "    </tr>\n",
       "    <tr>\n",
       "      <th>4</th>\n",
       "      <td>714.531282</td>\n",
       "      <td>714.581281</td>\n",
       "      <td>49.999</td>\n",
       "      <td>0.518720</td>\n",
       "      <td>18.317539</td>\n",
       "      <td>0.124930</td>\n",
       "      <td>0.602003</td>\n",
       "      <td>0.513501</td>\n",
       "      <td>0.258371</td>\n",
       "      <td>-41.487900</td>\n",
       "    </tr>\n",
       "  </tbody>\n",
       "</table>\n",
       "</div>"
      ],
      "text/plain": [
       "   onset_time_s  offset_time_s  duration_ms  amplitude_norm  \\\n",
       "0    713.452116     713.469615       17.499        0.050938   \n",
       "1    713.642949     713.660449       17.500        0.077350   \n",
       "2    713.998784     714.072948       74.164        0.615311   \n",
       "3    714.231282     714.250449       19.167        0.051723   \n",
       "4    714.531282     714.581281       49.999        0.518720   \n",
       "\n",
       "   peak_velocity_norm_per_s   start_x   start_y     end_x     end_y  \\\n",
       "0                  5.202209  0.492018  0.240230  0.533035  0.210026   \n",
       "1                  9.681733  0.552224  0.203951  0.616949  0.161599   \n",
       "2                 16.642844  0.615993  0.165577  0.131313  0.544644   \n",
       "3                  7.839512  0.128462  0.548544  0.122669  0.599942   \n",
       "4                 18.317539  0.124930  0.602003  0.513501  0.258371   \n",
       "\n",
       "   direction_deg  \n",
       "0     -36.367527  \n",
       "1     -33.198221  \n",
       "2     141.971167  \n",
       "3      96.430392  \n",
       "4     -41.487900  "
      ]
     },
     "execution_count": 7,
     "metadata": {},
     "output_type": "execute_result"
    }
   ],
   "source": [
    "saccades, G, metadata = detect_saccades(data_segment)\n",
    "saccades"
   ]
  },
  {
   "cell_type": "code",
   "execution_count": 9,
   "id": "701ba3d6-8686-4906-bb2b-160199795ead",
   "metadata": {},
   "outputs": [
    {
     "name": "stdout",
     "output_type": "stream",
     "text": [
      "Saccade count: 5\n",
      "Mean saccadic duration:  35.66579999996975\n",
      "Total saccadic duration: 178.32899999984875\n"
     ]
    }
   ],
   "source": [
    "print(\"Saccade count:\", len(saccades))\n",
    "print(\"Mean saccadic duration: \", saccades.duration_ms.mean())\n",
    "print(\"Total saccadic duration:\", saccades.duration_ms.sum())"
   ]
  },
  {
   "cell_type": "code",
   "execution_count": null,
   "id": "2340cd2b-0e5d-466e-aa3e-f79f7aa05ad5",
   "metadata": {},
   "outputs": [],
   "source": []
  }
 ],
 "metadata": {
  "kernelspec": {
   "display_name": "ccs",
   "language": "python",
   "name": "python3"
  },
  "language_info": {
   "codemirror_mode": {
    "name": "ipython",
    "version": 3
   },
   "file_extension": ".py",
   "mimetype": "text/x-python",
   "name": "python",
   "nbconvert_exporter": "python",
   "pygments_lexer": "ipython3",
   "version": "3.10.18"
  }
 },
 "nbformat": 4,
 "nbformat_minor": 5
}
