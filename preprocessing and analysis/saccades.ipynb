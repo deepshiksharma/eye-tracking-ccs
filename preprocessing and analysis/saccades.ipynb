{
 "cells": [
  {
   "cell_type": "markdown",
   "id": "32f78c0a",
   "metadata": {},
   "source": [
    "# Saccadic metrics\n",
    "- Saccade count\n",
    "- Mean saccadic duration\n",
    "- Total saccadic duration\n",
    "- Mean saccadic amplitude\n",
    "- Peak saccadic velocity"
   ]
  },
  {
   "cell_type": "code",
   "execution_count": null,
   "id": "79c21632",
   "metadata": {},
   "outputs": [],
   "source": [
    "# Import required libraries\n",
    "import pandas as pd\n",
    "from utils.experiment_specific import extract_stim_viewing_segments\n",
    "\n",
    "# Load the sample eye tracking data, for calculating saccadic metrics during that recording\n",
    "data = pd.read_csv(r\"D:\\GITHUB\\eye-tracking-ccs\\preprocessing and analysis\\sample_eye_tracking_data.csv\")"
   ]
  },
  {
   "cell_type": "code",
   "execution_count": null,
   "id": "296089f2",
   "metadata": {},
   "outputs": [],
   "source": [
    "# For the sake of example, let us extract saccadic metrics during the viewing segment of one stimulus image.\n",
    "data_segment = extract_stim_viewing_segments(data)['Landscapes_139_h.jpg']"
   ]
  },
  {
   "cell_type": "markdown",
   "id": "7cc62382",
   "metadata": {},
   "source": [
    "**Note:** Depending on how your experiment is structured, you can segment the eye tracking data into different segments. <br>\n",
    "Here, I already have functions that automate the segmentation of data into stimulus viewing and rating segments. <br>\n",
    "You can make slight modifications to the existing functions to can accomodate another experiment design structure."
   ]
  },
  {
   "cell_type": "markdown",
   "id": "5138fdbb",
   "metadata": {},
   "source": [
    "# Function usage\n",
    "The function `detect_saccades` from `utils.saccades` is used to extract saccadic metrics from a given dataframe.\n",
    "\n",
    "This function returns (among others), a dataframe containing all detected saccades, along with their corresponding metrics."
   ]
  },
  {
   "cell_type": "code",
   "execution_count": 1,
   "id": "ce9e44ae",
   "metadata": {},
   "outputs": [
    {
     "name": "stdout",
     "output_type": "stream",
     "text": [
      "Help on function detect_saccades in module utils.saccades:\n",
      "\n",
      "detect_saccades(dataframe, ts_col='device_time_stamp', ts_unit_microsec=True, fs=1200.0, smoothing_window_samples=7, vel_threshold_k=6.0, min_duration_ms=10, max_duration_ms=150, min_amplitude_norm=0.02, max_amplitude_norm=1.2, merge_gap_ms=5.0, interp_limit_s=0.02)\n",
      "    Detect saccades from a DataFrame. Returns (sacc_df, G, meta).\n",
      "    Assumes normalized screen coords [0..1] for amplitude thresholds.\n",
      "    - If ts_col present, it will be used (divide by 1e6 if ts_unit_microsec).\n",
      "    - Otherwise time is constructed from fs and sample index.\n",
      "    - interp_limit_s controls maximum gap (in seconds) to interpolate across.\n",
      "    \n",
      "    Extracts saccadic metrics from a given dataframe.\n",
      "    \n",
      "    Args:\n",
      "        - dataframe (pd.DataFrame): The dataframe containing eye-tracking data.\n",
      "        - ts_col (str, optional):   Name of the column that contains timestamp. Defaults to 'device_time_stamp'.\n",
      "        - ts_unit_microsec (bool, optional):    Whether the timestamps are in microseconds. Defaults to True.\n",
      "        - fs (numeric, optional):   Sampling rate. Defaults to 1200.\n",
      "        - smoothing_window_samples, vel_threshold_k, min_duration_ms, max_duration_ms,\n",
      "          min_amplitude_norm, max_amplitude_norm, merge_gap_ms, interp_limit_s: Various optional parameters for saccadic detection.\n",
      "    \n",
      "    Returns:\n",
      "        - saccades (pd.DataFrame):  The dataframe containing all detected saccades, along with their corresponding metrics.\n",
      "        - G (pd.DataFrame): The gaze trace used by the saccade detector function.\n",
      "        - metadata (dict):  Metadata containing a few diagnostic and configuration values used for saccade detection.\n",
      "\n"
     ]
    }
   ],
   "source": [
    "from utils.saccades import detect_saccades\n",
    "help(detect_saccades)"
   ]
  },
  {
   "cell_type": "code",
   "execution_count": null,
   "id": "ebb73116",
   "metadata": {},
   "outputs": [],
   "source": [
    "saccades, G, metadata = detect_saccades(data_segment)\n",
    "saccades"
   ]
  },
  {
   "cell_type": "code",
   "execution_count": null,
   "id": "f36c61c4",
   "metadata": {},
   "outputs": [],
   "source": []
  }
 ],
 "metadata": {
  "kernelspec": {
   "display_name": "ccs",
   "language": "python",
   "name": "python3"
  },
  "language_info": {
   "codemirror_mode": {
    "name": "ipython",
    "version": 3
   },
   "file_extension": ".py",
   "mimetype": "text/x-python",
   "name": "python",
   "nbconvert_exporter": "python",
   "pygments_lexer": "ipython3",
   "version": "3.10.18"
  }
 },
 "nbformat": 4,
 "nbformat_minor": 5
}
