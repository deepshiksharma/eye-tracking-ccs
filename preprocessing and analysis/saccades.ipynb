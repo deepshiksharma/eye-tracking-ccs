{
 "cells": [
  {
   "cell_type": "markdown",
   "id": "32f78c0a",
   "metadata": {},
   "source": [
    "# Saccadic metrics\n",
    "- Saccade count\n",
    "- Mean saccadic duration\n",
    "- Total saccadic duration\n",
    "- Mean saccadic amplitude\n",
    "- Peak saccadic velocity"
   ]
  }
 ],
 "metadata": {
  "kernelspec": {
   "display_name": "ccs",
   "language": "python",
   "name": "python3"
  },
  "language_info": {
   "codemirror_mode": {
    "name": "ipython",
    "version": 3
   },
   "file_extension": ".py",
   "mimetype": "text/x-python",
   "name": "python",
   "nbconvert_exporter": "python",
   "pygments_lexer": "ipython3",
   "version": "3.10.18"
  }
 },
 "nbformat": 4,
 "nbformat_minor": 5
}
