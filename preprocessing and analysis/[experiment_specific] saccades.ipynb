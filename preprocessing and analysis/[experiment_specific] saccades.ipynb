{
 "cells": [
  {
   "cell_type": "code",
   "execution_count": 1,
   "id": "0db409e1",
   "metadata": {},
   "outputs": [],
   "source": [
    "from experiment_specific_utils.saccades import (\n",
    "    compute_saccadic_metrics_viewing, plot_saccadic_metrics_viewing,\n",
    "    compute_saccadic_metrics_rating, plot_saccadic_metrics_rating,\n",
    ")\n",
    "\n",
    "# to supress pandas incorrect usage warning\n",
    "import warnings\n",
    "warnings.filterwarnings(\"ignore\", message=\"Setting an item of incompatible dtype\")\n",
    "warnings.filterwarnings(\"ignore\", message=\"All-NaN slice encountered\")"
   ]
  },
  {
   "cell_type": "code",
   "execution_count": 2,
   "id": "7ba65173",
   "metadata": {},
   "outputs": [],
   "source": [
    "# The directory containing a subdirectory for each subject, where each subdir contains eye_tracking_data.csv for that subject.\n",
    "# \n",
    "# The directory structure:\n",
    "#   \n",
    "#   |-- base_dir/\n",
    "#   |   |-- subject_1/\n",
    "#   |   |   |-- eye_tracking_data.csv\n",
    "#   |   |...\n",
    "#   |   |-- subject_n/\n",
    "#   |   |   |-- eye_tracking_data.csv\n",
    "\n",
    "base_dir = r\"eye-data-sept2025\\EXPERIMENTS_selective\""
   ]
  },
  {
   "cell_type": "code",
   "execution_count": 3,
   "id": "345cffc3",
   "metadata": {},
   "outputs": [
    {
     "name": "stderr",
     "output_type": "stream",
     "text": [
      "D:\\GITHUB\\eye-tracking-ccs\\preprocessing and analysis\\experiment_specific_utils\\saccades.py:26: DtypeWarning: Columns (17,18) have mixed types. Specify dtype option on import or set low_memory=False.\n",
      "  df = pd.read_csv(df_path)\n"
     ]
    },
    {
     "name": "stdout",
     "output_type": "stream",
     "text": [
      "Saved subject-level metrics to: saccadic_metrics_viewing\\subject_level_saccade_metrics_viewing.csv\n",
      "Saved group-level metrics to: saccadic_metrics_viewing\\group_level_saccade_metrics_viewing.csv\n"
     ]
    }
   ],
   "source": [
    "subject_lvl_viewing, group_lvl_viewing = compute_saccadic_metrics_viewing(base_dir)"
   ]
  },
  {
   "cell_type": "code",
   "execution_count": 4,
   "id": "908548e4",
   "metadata": {},
   "outputs": [
    {
     "name": "stdout",
     "output_type": "stream",
     "text": [
      "Saved: saccadic_metrics_viewing_plots\\mean_saccade_count.png\n",
      "Saved: saccadic_metrics_viewing_plots\\mean_saccade_duration_ms.png\n",
      "Saved: saccadic_metrics_viewing_plots\\mean_total_saccade_duration_ms.png\n",
      "Saved: saccadic_metrics_viewing_plots\\mean_amplitude_norm.png\n",
      "Saved: saccadic_metrics_viewing_plots\\mean_peak_velocity.png\n"
     ]
    }
   ],
   "source": [
    "plot_saccadic_metrics_viewing(subject_lvl_viewing)"
   ]
  },
  {
   "cell_type": "code",
   "execution_count": 5,
   "id": "537e0e31",
   "metadata": {},
   "outputs": [
    {
     "name": "stderr",
     "output_type": "stream",
     "text": [
      "D:\\GITHUB\\eye-tracking-ccs\\preprocessing and analysis\\experiment_specific_utils\\saccades.py:375: DtypeWarning: Columns (17,18) have mixed types. Specify dtype option on import or set low_memory=False.\n",
      "  df = pd.read_csv(df_path)\n"
     ]
    },
    {
     "name": "stdout",
     "output_type": "stream",
     "text": [
      "Saved subject-level metrics to: saccade_metrics_rating\\subject_level_saccade_metrics_per_screen.csv\n",
      "Saved group-level metrics to: saccade_metrics_rating\\group_level_saccade_metrics_per_screen.csv\n"
     ]
    }
   ],
   "source": [
    "subject_lvl_rating, group_lvl_rating = compute_saccadic_metrics_rating(base_dir)"
   ]
  },
  {
   "cell_type": "code",
   "execution_count": 6,
   "id": "39a4ae6b",
   "metadata": {},
   "outputs": [
    {
     "name": "stdout",
     "output_type": "stream",
     "text": [
      "Saved: saccadic_metrics_rating_plots\\mean_saccade_count.png\n",
      "Saved: saccadic_metrics_rating_plots\\mean_saccade_duration_ms.png\n",
      "Saved: saccadic_metrics_rating_plots\\mean_total_saccade_duration_ms.png\n",
      "Saved: saccadic_metrics_rating_plots\\mean_amplitude_norm.png\n",
      "Saved: saccadic_metrics_rating_plots\\mean_peak_velocity.png\n"
     ]
    }
   ],
   "source": [
    "plot_saccadic_metrics_rating(subject_lvl_rating)"
   ]
  },
  {
   "cell_type": "code",
   "execution_count": null,
   "id": "773361e7-c923-45c2-8628-da9ed8a79ef2",
   "metadata": {},
   "outputs": [],
   "source": []
  }
 ],
 "metadata": {
  "kernelspec": {
   "display_name": "Python 3 (ipykernel)",
   "language": "python",
   "name": "python3"
  },
  "language_info": {
   "codemirror_mode": {
    "name": "ipython",
    "version": 3
   },
   "file_extension": ".py",
   "mimetype": "text/x-python",
   "name": "python",
   "nbconvert_exporter": "python",
   "pygments_lexer": "ipython3",
   "version": "3.10.18"
  }
 },
 "nbformat": 4,
 "nbformat_minor": 5
}
