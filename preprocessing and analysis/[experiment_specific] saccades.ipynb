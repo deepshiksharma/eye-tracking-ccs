{
 "cells": [
  {
   "cell_type": "markdown",
   "id": "5d210574",
   "metadata": {},
   "source": [
    "# Analysis"
   ]
  },
  {
   "cell_type": "code",
   "execution_count": null,
   "id": "0db409e1",
   "metadata": {},
   "outputs": [],
   "source": [
    "from experiment_specific_utils.saccades import (\n",
    "    compute_saccadic_metrics_viewing, plot_saccadic_metrics_viewing,\n",
    "    compute_saccadic_metrics_rating, plot_saccadic_metrics_rating,\n",
    ")\n",
    "\n",
    "# to supress pandas incorrect usage warning\n",
    "import warnings\n",
    "warnings.filterwarnings(\"ignore\", message=\"Setting an item of incompatible dtype\")"
   ]
  },
  {
   "cell_type": "code",
   "execution_count": null,
   "id": "7ba65173",
   "metadata": {},
   "outputs": [],
   "source": [
    "# The directory containing a subdirectory for each subject, where each subdir contains eye_tracking_data.csv for that subject.\n",
    "# \n",
    "# The directory structure:\n",
    "#   \n",
    "#   |-- base_dir/\n",
    "#   |   |-- subject_1/\n",
    "#   |   |   |-- eye_tracking_data.csv\n",
    "#   |   |...\n",
    "#   |   |-- subject_n/\n",
    "#   |   |   |-- eye_tracking_data.csv\n",
    "\n",
    "base_dir = r\"eye-data-sept2025\\EXPERIMENTS_selective\""
   ]
  },
  {
   "cell_type": "code",
   "execution_count": null,
   "id": "345cffc3",
   "metadata": {},
   "outputs": [],
   "source": [
    "subject_lvl_viewing, group_lvl_viewing = compute_saccadic_metrics_viewing(base_dir)"
   ]
  },
  {
   "cell_type": "code",
   "execution_count": null,
   "id": "908548e4",
   "metadata": {},
   "outputs": [],
   "source": [
    "plot_saccadic_metrics_viewing(subject_lvl_viewing)"
   ]
  },
  {
   "cell_type": "code",
   "execution_count": null,
   "id": "537e0e31",
   "metadata": {},
   "outputs": [],
   "source": [
    "subject_lvl_rating, group_lvl_rating = compute_saccadic_metrics_rating(base_dir)"
   ]
  },
  {
   "cell_type": "code",
   "execution_count": null,
   "id": "39a4ae6b",
   "metadata": {},
   "outputs": [],
   "source": [
    "plot_saccadic_metrics_rating(subject_lvl_rating)"
   ]
  }
 ],
 "metadata": {
  "kernelspec": {
   "display_name": "ccs",
   "language": "python",
   "name": "python3"
  },
  "language_info": {
   "codemirror_mode": {
    "name": "ipython",
    "version": 3
   },
   "file_extension": ".py",
   "mimetype": "text/x-python",
   "name": "python",
   "nbconvert_exporter": "python",
   "pygments_lexer": "ipython3",
   "version": "3.10.18"
  }
 },
 "nbformat": 4,
 "nbformat_minor": 5
}
