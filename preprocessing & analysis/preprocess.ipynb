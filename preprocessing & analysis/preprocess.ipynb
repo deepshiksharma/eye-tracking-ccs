{
 "cells": [
  {
   "cell_type": "code",
   "execution_count": null,
   "id": "03613f87",
   "metadata": {},
   "outputs": [],
   "source": [
    "from preprocess import remove_invalids, apply_smoothing, baseline_correction\n",
    "print(help(remove_invalids))\n",
    "print(help(apply_smoothing))\n",
    "print(help(baseline_correction))"
   ]
  }
 ],
 "metadata": {
  "kernelspec": {
   "display_name": "ccs",
   "language": "python",
   "name": "python3"
  },
  "language_info": {
   "codemirror_mode": {
    "name": "ipython",
    "version": 3
   },
   "file_extension": ".py",
   "mimetype": "text/x-python",
   "name": "python",
   "nbconvert_exporter": "python",
   "pygments_lexer": "ipython3",
   "version": "3.10.18"
  }
 },
 "nbformat": 4,
 "nbformat_minor": 5
}
