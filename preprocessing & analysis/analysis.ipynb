{
 "cells": [
  {
   "cell_type": "code",
   "execution_count": 2,
   "id": "1bb23801",
   "metadata": {},
   "outputs": [
    {
     "name": "stdout",
     "output_type": "stream",
     "text": [
      "Help on function overview_plot in module analysis:\n",
      "\n",
      "overview_plot(dataframe, pupil_to_plot=None)\n",
      "    Plot the pupil diameter across the entire experiment session, with scrambled, stimulus, and fixation segments highlighted.\n",
      "    \n",
      "    Args:\n",
      "        - df (pd.DataFrame):    The dataframe containing eye-tracking data.\n",
      "        - pupil_to_plot (str):  Which pupil diameter to plot. Allowed values: \"left\" or \"right\".\n",
      "    \n",
      "    Returns:\n",
      "        - 1 (int): Will happen if you forget to pass in the `pupil_to_plot` argument.\n",
      "\n"
     ]
    }
   ],
   "source": [
    "from analysis import overview_plot\n",
    "help(overview_plot)"
   ]
  },
  {
   "cell_type": "code",
   "execution_count": null,
   "id": "4117e343",
   "metadata": {},
   "outputs": [],
   "source": []
  }
 ],
 "metadata": {
  "kernelspec": {
   "display_name": "Python 3",
   "language": "python",
   "name": "python3"
  },
  "language_info": {
   "codemirror_mode": {
    "name": "ipython",
    "version": 3
   },
   "file_extension": ".py",
   "mimetype": "text/x-python",
   "name": "python",
   "nbconvert_exporter": "python",
   "pygments_lexer": "ipython3",
   "version": "3.10.18"
  }
 },
 "nbformat": 4,
 "nbformat_minor": 5
}
