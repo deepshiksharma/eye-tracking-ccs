{
 "cells": [
  {
   "cell_type": "code",
   "execution_count": null,
   "id": "04df0f5c",
   "metadata": {},
   "outputs": [],
   "source": [
    "import pandas as pd\n",
    "from preprocess_utils import pygaze_compatible_format_fixsacc\n",
    "from analysis_utils import extract_stim_viewing_segments, extract_emotion_rating_segments, check_gaze_fixation_on_point\n",
    "from pygazeanalyser.detectors import fixation_detection"
   ]
  },
  {
   "cell_type": "code",
   "execution_count": 2,
   "id": "d7f0c3b2",
   "metadata": {},
   "outputs": [],
   "source": [
    "data = pd.read_csv(r\"eye-data-sept2025\\EXPERIMENTS\\madhu_11_9_25\\eye_tracking_data.csv\")\n",
    "viewing_segments = extract_stim_viewing_segments(data)\n",
    "rating_segments = extract_emotion_rating_segments(data)"
   ]
  },
  {
   "cell_type": "code",
   "execution_count": 11,
   "id": "aeed2d3f",
   "metadata": {},
   "outputs": [],
   "source": [
    "x, y, t = pygaze_compatible_format_fixsacc(rating_segments['Animals_081_h.jpg']['fear'])\n",
    "Sfix, Efix = fixation_detection(x, y, t)"
   ]
  },
  {
   "cell_type": "code",
   "execution_count": 14,
   "id": "9f45a641",
   "metadata": {},
   "outputs": [
    {
     "name": "stdout",
     "output_type": "stream",
     "text": [
      "starttime\tendtime\t\tduration\tendx\t\tendy\n",
      "0.83\t\t330.00\t\t329.17\t\t1656.45\t\t558.88\n",
      "365.01\t\t544.18\t\t179.16\t\t1191.21\t\t501.98\n",
      "625.01\t\t1065.84\t\t440.83\t\t699.51\t\t534.03\n",
      "1094.17\t\t1365.84\t\t271.67\t\t721.61\t\t629.90\n",
      "1395.01\t\t1484.17\t\t89.16\t\t721.73\t\t513.95\n",
      "440.8299999999999 2\n"
     ]
    }
   ],
   "source": [
    "print(\"starttime\\tendtime\\t\\tduration\\tendx\\t\\tendy\")\n",
    "for i in Efix:\n",
    "    print(f\"{i[0]:.2f}\\t\\t{i[1]:.2f}\\t\\t{i[2]:.2f}\\t\\t{i[3]:.2f}\\t\\t{i[4]:.2f}\")\n",
    "\n",
    "max_fix = 0\n",
    "idx = 0\n",
    "for i in Efix:\n",
    "    if i[2] >= max_fix:\n",
    "        max_fix = i[2]\n",
    "        idx = Efix.index(i)\n",
    "        \n",
    "print(max_fix, idx)"
   ]
  },
  {
   "cell_type": "code",
   "execution_count": 15,
   "id": "475e6557",
   "metadata": {},
   "outputs": [
    {
     "data": {
      "text/plain": [
       "[625.011, 1065.841, 440.8299999999999, 699.5066070556641, 534.0275037288666]"
      ]
     },
     "execution_count": 15,
     "metadata": {},
     "output_type": "execute_result"
    }
   ],
   "source": [
    "Efix[2]\n",
    "# [starttime, endtime, duration, endx, endy]"
   ]
  },
  {
   "cell_type": "code",
   "execution_count": 16,
   "id": "80a94644",
   "metadata": {},
   "outputs": [
    {
     "data": {
      "text/plain": [
       "3"
      ]
     },
     "execution_count": 16,
     "metadata": {},
     "output_type": "execute_result"
    }
   ],
   "source": [
    "check_gaze_fixation_on_point(Efix[2][-2], Efix[2][-1])"
   ]
  },
  {
   "cell_type": "code",
   "execution_count": null,
   "id": "68907adc",
   "metadata": {},
   "outputs": [],
   "source": []
  }
 ],
 "metadata": {
  "kernelspec": {
   "display_name": "ccs",
   "language": "python",
   "name": "python3"
  },
  "language_info": {
   "codemirror_mode": {
    "name": "ipython",
    "version": 3
   },
   "file_extension": ".py",
   "mimetype": "text/x-python",
   "name": "python",
   "nbconvert_exporter": "python",
   "pygments_lexer": "ipython3",
   "version": "3.10.18"
  }
 },
 "nbformat": 4,
 "nbformat_minor": 5
}
